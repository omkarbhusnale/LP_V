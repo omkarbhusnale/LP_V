{
  "nbformat": 4,
  "nbformat_minor": 0,
  "metadata": {
    "colab": {
      "provenance": []
    },
    "kernelspec": {
      "name": "python3",
      "display_name": "Python 3"
    },
    "language_info": {
      "name": "python"
    }
  },
  "cells": [
    {
      "cell_type": "code",
      "execution_count": null,
      "metadata": {
        "id": "1cvzg8RIuvk-"
      },
      "outputs": [],
      "source": [
        "# !pip install scikit-learn\n",
        "import numpy as np\n",
        "import pandas as pd\n",
        "from sklearn.model_selection import train_test_split\n",
        "from sklearn.preprocessing import StandardScaler\n",
        "import tensorflow as tf\n",
        "from tensorflow.keras.models import Sequential\n",
        "from tensorflow.keras.layers import Dense\n"
      ]
    },
    {
      "cell_type": "code",
      "source": [
        "# Load the Boston Housing dataset from an alternative source\n",
        "data_url = \"https://raw.githubusercontent.com/selva86/datasets/master/BostonHousing.csv\"\n",
        "df = pd.read_csv(data_url)"
      ],
      "metadata": {
        "id": "9Hmd5sL_vAR2"
      },
      "execution_count": null,
      "outputs": []
    },
    {
      "cell_type": "code",
      "source": [
        "# Extract features and target variable\n",
        "X = df.drop('medv', axis=1).values\n",
        "y = df['medv'].values"
      ],
      "metadata": {
        "id": "yW4ISwrzvDfA"
      },
      "execution_count": null,
      "outputs": []
    },
    {
      "cell_type": "code",
      "source": [
        "# Split the data into training and testing sets\n",
        "X_train, X_test, y_train, y_test = train_test_split(X, y, test_size=0.2, random_state=42)"
      ],
      "metadata": {
        "id": "LkZS-rnTvGZv"
      },
      "execution_count": null,
      "outputs": []
    },
    {
      "cell_type": "code",
      "source": [
        "# Normalize the data\n",
        "scaler = StandardScaler()\n",
        "X_train = scaler.fit_transform(X_train)\n",
        "X_test = scaler.transform(X_test)"
      ],
      "metadata": {
        "id": "LRvYjBr-vKtt"
      },
      "execution_count": null,
      "outputs": []
    },
    {
      "cell_type": "code",
      "source": [
        "# Define the model\n",
        "model = Sequential()\n",
        "model.add(Dense(1, input_shape=(X_train.shape[1],)))\n",
        "\n",
        "# Compile the model\n",
        "model.compile(optimizer='adam', loss='mean_squared_error')\n",
        "\n",
        "# Train the model\n",
        "model.fit(X_train, y_train, batch_size=32, epochs=50, verbose=1)"
      ],
      "metadata": {
        "id": "XFlYy4PJvNDW",
        "colab": {
          "base_uri": "https://localhost:8080/"
        },
        "outputId": "be8b76c4-f82f-438f-bc8e-5e43857559f5"
      },
      "execution_count": null,
      "outputs": [
        {
          "output_type": "stream",
          "name": "stdout",
          "text": [
            "Epoch 1/50\n",
            "13/13 [==============================] - 1s 3ms/step - loss: 615.2989\n",
            "Epoch 2/50\n",
            "13/13 [==============================] - 0s 3ms/step - loss: 613.5175\n",
            "Epoch 3/50\n",
            "13/13 [==============================] - 0s 3ms/step - loss: 611.9036\n",
            "Epoch 4/50\n",
            "13/13 [==============================] - 0s 3ms/step - loss: 610.2190\n",
            "Epoch 5/50\n",
            "13/13 [==============================] - 0s 3ms/step - loss: 608.5240\n",
            "Epoch 6/50\n",
            "13/13 [==============================] - 0s 3ms/step - loss: 607.0494\n",
            "Epoch 7/50\n",
            "13/13 [==============================] - 0s 2ms/step - loss: 605.3460\n",
            "Epoch 8/50\n",
            "13/13 [==============================] - 0s 2ms/step - loss: 603.8711\n",
            "Epoch 9/50\n",
            "13/13 [==============================] - 0s 3ms/step - loss: 602.3606\n",
            "Epoch 10/50\n",
            "13/13 [==============================] - 0s 2ms/step - loss: 600.7341\n",
            "Epoch 11/50\n",
            "13/13 [==============================] - 0s 2ms/step - loss: 599.2356\n",
            "Epoch 12/50\n",
            "13/13 [==============================] - 0s 3ms/step - loss: 597.7350\n",
            "Epoch 13/50\n",
            "13/13 [==============================] - 0s 3ms/step - loss: 596.2594\n",
            "Epoch 14/50\n",
            "13/13 [==============================] - 0s 5ms/step - loss: 594.8429\n",
            "Epoch 15/50\n",
            "13/13 [==============================] - 0s 3ms/step - loss: 593.3378\n",
            "Epoch 16/50\n",
            "13/13 [==============================] - 0s 2ms/step - loss: 592.0055\n",
            "Epoch 17/50\n",
            "13/13 [==============================] - 0s 3ms/step - loss: 590.5974\n",
            "Epoch 18/50\n",
            "13/13 [==============================] - 0s 3ms/step - loss: 589.1452\n",
            "Epoch 19/50\n",
            "13/13 [==============================] - 0s 3ms/step - loss: 587.7783\n",
            "Epoch 20/50\n",
            "13/13 [==============================] - 0s 2ms/step - loss: 586.4969\n",
            "Epoch 21/50\n",
            "13/13 [==============================] - 0s 2ms/step - loss: 585.1071\n",
            "Epoch 22/50\n",
            "13/13 [==============================] - 0s 2ms/step - loss: 583.8599\n",
            "Epoch 23/50\n",
            "13/13 [==============================] - 0s 2ms/step - loss: 582.4843\n",
            "Epoch 24/50\n",
            "13/13 [==============================] - 0s 2ms/step - loss: 581.2172\n",
            "Epoch 25/50\n",
            "13/13 [==============================] - 0s 2ms/step - loss: 579.9597\n",
            "Epoch 26/50\n",
            "13/13 [==============================] - 0s 2ms/step - loss: 578.6815\n",
            "Epoch 27/50\n",
            "13/13 [==============================] - 0s 3ms/step - loss: 577.4507\n",
            "Epoch 28/50\n",
            "13/13 [==============================] - 0s 2ms/step - loss: 576.2227\n",
            "Epoch 29/50\n",
            "13/13 [==============================] - 0s 2ms/step - loss: 575.0297\n",
            "Epoch 30/50\n",
            "13/13 [==============================] - 0s 2ms/step - loss: 573.7917\n",
            "Epoch 31/50\n",
            "13/13 [==============================] - 0s 2ms/step - loss: 572.6003\n",
            "Epoch 32/50\n",
            "13/13 [==============================] - 0s 2ms/step - loss: 571.4642\n",
            "Epoch 33/50\n",
            "13/13 [==============================] - 0s 2ms/step - loss: 570.3162\n",
            "Epoch 34/50\n",
            "13/13 [==============================] - 0s 2ms/step - loss: 569.1221\n",
            "Epoch 35/50\n",
            "13/13 [==============================] - 0s 2ms/step - loss: 568.0225\n",
            "Epoch 36/50\n",
            "13/13 [==============================] - 0s 2ms/step - loss: 566.8266\n",
            "Epoch 37/50\n",
            "13/13 [==============================] - 0s 2ms/step - loss: 565.7737\n",
            "Epoch 38/50\n",
            "13/13 [==============================] - 0s 2ms/step - loss: 564.5981\n",
            "Epoch 39/50\n",
            "13/13 [==============================] - 0s 2ms/step - loss: 563.5455\n",
            "Epoch 40/50\n",
            "13/13 [==============================] - 0s 2ms/step - loss: 562.4164\n",
            "Epoch 41/50\n",
            "13/13 [==============================] - 0s 2ms/step - loss: 561.3339\n",
            "Epoch 42/50\n",
            "13/13 [==============================] - 0s 2ms/step - loss: 560.3005\n",
            "Epoch 43/50\n",
            "13/13 [==============================] - 0s 2ms/step - loss: 559.3073\n",
            "Epoch 44/50\n",
            "13/13 [==============================] - 0s 2ms/step - loss: 558.2038\n",
            "Epoch 45/50\n",
            "13/13 [==============================] - 0s 2ms/step - loss: 557.1791\n",
            "Epoch 46/50\n",
            "13/13 [==============================] - 0s 2ms/step - loss: 556.1743\n",
            "Epoch 47/50\n",
            "13/13 [==============================] - 0s 2ms/step - loss: 555.1236\n",
            "Epoch 48/50\n",
            "13/13 [==============================] - 0s 2ms/step - loss: 554.1846\n",
            "Epoch 49/50\n",
            "13/13 [==============================] - 0s 2ms/step - loss: 553.1178\n",
            "Epoch 50/50\n",
            "13/13 [==============================] - 0s 2ms/step - loss: 552.1899\n"
          ]
        },
        {
          "output_type": "execute_result",
          "data": {
            "text/plain": [
              "<keras.callbacks.History at 0x7f9151ca1720>"
            ]
          },
          "metadata": {},
          "execution_count": 54
        }
      ]
    },
    {
      "cell_type": "code",
      "source": [
        "# Evaluate the model on the test set\n",
        "loss = model.evaluate(X_test, y_test)\n",
        "print(\"Mean Squared Error on test set:\", loss)\n"
      ],
      "metadata": {
        "id": "ohAhcsmXvSx-",
        "colab": {
          "base_uri": "https://localhost:8080/"
        },
        "outputId": "4f5cbfe7-c7eb-4c9c-c5b3-c8b2013bf9d1"
      },
      "execution_count": null,
      "outputs": [
        {
          "output_type": "stream",
          "name": "stdout",
          "text": [
            "4/4 [==============================] - 0s 4ms/step - loss: 495.3411\n",
            "Mean Squared Error on test set: 495.3410949707031\n"
          ]
        }
      ]
    },
    {
      "cell_type": "code",
      "source": [
        "# Make predictions on new data\n",
        "new_data = np.array([[0.1, 0.2, 0.3, 0.4, 0.5, 0.6, 0.7, 0.8, 0.9, 1.0, 1.1, 1.2, 1.3]])\n",
        "new_data = scaler.transform(new_data)\n",
        "predictions = model.predict(new_data)\n",
        "print(\"Predicted house prices:\", predictions.flatten())\n"
      ],
      "metadata": {
        "id": "S8AlFdrXvVBY",
        "colab": {
          "base_uri": "https://localhost:8080/"
        },
        "outputId": "36bb31a2-8640-43b6-ec3f-d816d76ce492"
      },
      "execution_count": null,
      "outputs": [
        {
          "output_type": "stream",
          "name": "stdout",
          "text": [
            "1/1 [==============================] - 0s 46ms/step\n",
            "Predicted house prices: [2.310179]\n"
          ]
        }
      ]
    }
  ]
}