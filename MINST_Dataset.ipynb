{
  "nbformat": 4,
  "nbformat_minor": 0,
  "metadata": {
    "colab": {
      "provenance": []
    },
    "kernelspec": {
      "name": "python3",
      "display_name": "Python 3"
    },
    "language_info": {
      "name": "python"
    }
  },
  "cells": [
    {
      "cell_type": "markdown",
      "source": [
        "Here's an outline of the steps we'll follow:\n",
        "\n",
        "- Import the necessary libraries and load the MNIST Fashion Dataset.\n",
        "- Preprocess the data by normalizing it and splitting it into training and testing sets.\n",
        "- Build and train the CNN model.\n",
        "- Evaluate the model's performance on the test set.\n",
        "- Make predictions on new fashion images."
      ],
      "metadata": {
        "id": "HMsmwoD_rSoQ"
      }
    },
    {
      "cell_type": "code",
      "execution_count": 1,
      "metadata": {
        "id": "HkRYWMw6q-dP"
      },
      "outputs": [],
      "source": [
        "import numpy as np\n",
        "import matplotlib.pyplot as plt\n",
        "from tensorflow.keras.datasets import fashion_mnist\n",
        "from tensorflow.keras.models import Sequential\n",
        "from tensorflow.keras.layers import Conv2D, MaxPooling2D, Flatten, Dense\n",
        "from tensorflow.keras.utils import to_categorical\n",
        "\n",
        "# Load the MNIST Fashion Dataset\n",
        "(X_train, y_train), (X_test, y_test) = fashion_mnist.load_data()\n"
      ]
    },
    {
      "cell_type": "code",
      "source": [
        "# Reshape and normalize the input images\n",
        "X_train = X_train.reshape(-1, 28, 28, 1) / 255.0\n",
        "X_test = X_test.reshape(-1, 28, 28, 1) / 255.0\n",
        "\n",
        "# One-hot encode the target labels\n",
        "y_train = to_categorical(y_train)\n",
        "y_test = to_categorical(y_test)\n"
      ],
      "metadata": {
        "id": "_UB0ImltrdnD"
      },
      "execution_count": 2,
      "outputs": []
    },
    {
      "cell_type": "code",
      "source": [
        "plt.imshow(X_train[1])"
      ],
      "metadata": {
        "colab": {
          "base_uri": "https://localhost:8080/",
          "height": 447
        },
        "id": "JGNa1HZhvC6f",
        "outputId": "335bb5aa-5857-43c3-f596-b3c468afd468"
      },
      "execution_count": 7,
      "outputs": [
        {
          "output_type": "execute_result",
          "data": {
            "text/plain": [
              "<matplotlib.image.AxesImage at 0x7fc15d732c20>"
            ]
          },
          "metadata": {},
          "execution_count": 7
        },
        {
          "output_type": "display_data",
          "data": {
            "text/plain": [
              "<Figure size 640x480 with 1 Axes>"
            ],
            "image/png": "[encoded data removed]"
          },
          "metadata": {}
        }
      ]
    },
    {
      "cell_type": "code",
      "source": [
        "# Define the CNN model\n",
        "model = Sequential()\n",
        "model.add(Conv2D(32, (3, 3), activation='relu', input_shape=(28, 28, 1)))\n",
        "model.add(MaxPooling2D((2, 2)))\n",
        "model.add(Conv2D(64, (3, 3), activation='relu'))\n",
        "model.add(MaxPooling2D((2, 2)))\n",
        "model.add(Conv2D(64, (3, 3), activation='relu'))\n",
        "model.add(Flatten())\n",
        "model.add(Dense(64, activation='relu'))\n",
        "model.add(Dense(10, activation='softmax'))\n",
        "\n",
        "# Compile the model\n",
        "model.compile(optimizer='adam', loss='categorical_crossentropy', metrics=['accuracy'])\n",
        "\n",
        "# Train the model\n",
        "model.fit(X_train, y_train, batch_size=128, epochs=10, validation_data=(X_test, y_test))\n"
      ],
      "metadata": {
        "colab": {
          "base_uri": "https://localhost:8080/"
        },
        "id": "cF5Psc4rrfsi",
        "outputId": "bae45e60-44b1-4785-c916-f60533afa001"
      },
      "execution_count": 3,
      "outputs": [
        {
          "output_type": "stream",
          "name": "stdout",
          "text": [
            "Epoch 1/10\n",
            "469/469 [==============================] - 64s 133ms/step - loss: 0.6170 - accuracy: 0.7760 - val_loss: 0.4308 - val_accuracy: 0.8444\n",
            "Epoch 2/10\n",
            "469/469 [==============================] - 59s 125ms/step - loss: 0.3799 - accuracy: 0.8625 - val_loss: 0.3525 - val_accuracy: 0.8730\n",
            "Epoch 3/10\n",
            "469/469 [==============================] - 60s 127ms/step - loss: 0.3239 - accuracy: 0.8829 - val_loss: 0.3627 - val_accuracy: 0.8698\n",
            "Epoch 4/10\n",
            "469/469 [==============================] - 58s 125ms/step - loss: 0.2942 - accuracy: 0.8941 - val_loss: 0.3012 - val_accuracy: 0.8916\n",
            "Epoch 5/10\n",
            "469/469 [==============================] - 61s 131ms/step - loss: 0.2707 - accuracy: 0.9019 - val_loss: 0.3143 - val_accuracy: 0.8838\n",
            "Epoch 6/10\n",
            "469/469 [==============================] - 58s 124ms/step - loss: 0.2517 - accuracy: 0.9083 - val_loss: 0.2867 - val_accuracy: 0.8964\n",
            "Epoch 7/10\n",
            "469/469 [==============================] - 63s 133ms/step - loss: 0.2371 - accuracy: 0.9119 - val_loss: 0.2833 - val_accuracy: 0.8981\n",
            "Epoch 8/10\n",
            "469/469 [==============================] - 59s 126ms/step - loss: 0.2243 - accuracy: 0.9177 - val_loss: 0.2718 - val_accuracy: 0.9029\n",
            "Epoch 9/10\n",
            "469/469 [==============================] - 61s 130ms/step - loss: 0.2098 - accuracy: 0.9226 - val_loss: 0.2682 - val_accuracy: 0.9060\n",
            "Epoch 10/10\n",
            "469/469 [==============================] - 60s 127ms/step - loss: 0.1982 - accuracy: 0.9265 - val_loss: 0.2582 - val_accuracy: 0.9069\n"
          ]
        },
        {
          "output_type": "execute_result",
          "data": {
            "text/plain": [
              "<keras.callbacks.History at 0x7fc18737dfc0>"
            ]
          },
          "metadata": {},
          "execution_count": 3
        }
      ]
    },
    {
      "cell_type": "code",
      "source": [
        "# Evaluate the model on the test set\n",
        "loss, accuracy = model.evaluate(X_test, y_test)\n",
        "print(\"Loss:\", loss)\n",
        "print(\"Accuracy:\", accuracy)\n"
      ],
      "metadata": {
        "colab": {
          "base_uri": "https://localhost:8080/"
        },
        "id": "EIU4mIOorhx8",
        "outputId": "bd01f57d-23ca-4629-b414-7421b9bf4658"
      },
      "execution_count": 4,
      "outputs": [
        {
          "output_type": "stream",
          "name": "stdout",
          "text": [
            "313/313 [==============================] - 3s 10ms/step - loss: 0.2582 - accuracy: 0.9069\n",
            "Loss: 0.25824442505836487\n",
            "Accuracy: 0.9068999886512756\n"
          ]
        }
      ]
    },
    {
      "cell_type": "code",
      "source": [
        "# Select a random fashion image from the test set\n",
        "index = np.random.randint(0, len(X_test))\n",
        "image = X_test[index].reshape(1, 28, 28, 1)\n",
        "\n",
        "# Make a prediction\n",
        "prediction = model.predict(image)\n",
        "predicted_class = np.argmax(prediction)\n",
        "\n",
        "# Display the image and predicted class\n",
        "plt.imshow(X_test[index].reshape(28, 28), cmap='gray')\n",
        "plt.title(\"Predicted Class: {}\".format(predicted_class))\n",
        "plt.axis('off')\n",
        "plt.show()\n"
      ],
      "metadata": {
        "colab": {
          "base_uri": "https://localhost:8080/",
          "height": 445
        },
        "id": "K7uZs49kriVf",
        "outputId": "c4af0e73-c267-454f-889c-feaf3b1f3578"
      },
      "execution_count": 5,
      "outputs": [
        {
          "output_type": "stream",
          "name": "stdout",
          "text": [
            "1/1 [==============================] - 0s 159ms/step\n"
          ]
        },
        {
          "output_type": "display_data",
          "data": {
            "text/plain": [
              "<Figure size 640x480 with 1 Axes>"
            ],
            "image/png": "[encoded data removed]"
          },
          "metadata": {}
        }
      ]
    }
  ]
}